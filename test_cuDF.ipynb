{
 "cells": [
  {
   "cell_type": "code",
   "execution_count": 1,
   "metadata": {},
   "outputs": [],
   "source": [
    "import os\n",
    "import pandas as pd\n",
    "import numpy as np\n",
    "import torch\n",
    "import timeit\n",
    "\n",
    "import cupy as cp\n",
    "cp.random.seed(12)\n",
    "\n",
    "#### Portions of this were borrowed and adapted from the\n",
    "#### cuDF cheatsheet, existing cuDF documentation,\n",
    "#### and 10 Minutes to Pandas."
   ]
  },
  {
   "cell_type": "code",
   "execution_count": 2,
   "metadata": {},
   "outputs": [],
   "source": [
    "import time\n",
    "\n",
    "import cupy as cp\n",
    "import cudf\n",
    "from cuml.neighbors import NearestNeighbors\n",
    "from cuml.common.device_selection import using_device_type, set_global_device_type, get_global_device_type\n",
    "\n",
    "# import dask_cudf\n",
    "# from dask.distributed import Client, wait\n",
    "# from dask_cuda import LocalCUDACluster\n",
    "\n"
   ]
  },
  {
   "cell_type": "code",
   "execution_count": 3,
   "metadata": {},
   "outputs": [],
   "source": [
    "# cluster = LocalCUDACluster(n_workers=1, threads_per_worker=512)\n",
    "# client = Client(cluster)"
   ]
  },
  {
   "cell_type": "code",
   "execution_count": 4,
   "metadata": {},
   "outputs": [],
   "source": [
    "# Generate a \"coordinate\" dataframe\n",
    "n_points = 400000\n",
    "#df = cudf.DataFrame()\n",
    "\n",
    "point_cloud = torch.cuda.FloatTensor(n_points, 3).uniform_()\n",
    "\n",
    "# df['x'] = point_cloud[:, 0]\n",
    "# df['y'] = point_cloud[:, 1]\n",
    "# df['z'] = point_cloud[:, 2]\n",
    "\n",
    "# Generate random data for the DataFrame\n",
    "random_data = np.array(point_cloud.cpu())\n",
    "\n",
    "# Create the cudf.DataFrame\n",
    "df = cudf.DataFrame(random_data, columns=[\"X\", \"Y\", \"Z\"])"
   ]
  },
  {
   "cell_type": "code",
   "execution_count": 5,
   "metadata": {},
   "outputs": [],
   "source": [
    "# ddf = dask_cudf.from_cudf(df, npartitions=1)\n",
    "# ddf.head()\n",
    "\n",
    "# ddf = ddf.persist()"
   ]
  },
  {
   "cell_type": "code",
   "execution_count": 6,
   "metadata": {},
   "outputs": [],
   "source": [
    "n_neighbors = 16"
   ]
  },
  {
   "cell_type": "code",
   "execution_count": 7,
   "metadata": {},
   "outputs": [
    {
     "name": "stdout",
     "output_type": "stream",
     "text": [
      "Average execution time with common data: 0.607689 seconds\n"
     ]
    }
   ],
   "source": [
    "from cuml.datasets import make_blobs\n",
    "from time import perf_counter\n",
    "\n",
    "# # Generate random data for the DataFrame\n",
    "# random_data2 = np.random.rand(n_points, 3)\n",
    "\n",
    "# # Create the cudf.DataFrame\n",
    "# fit_df = cudf.DataFrame(random_data2, columns=[\"X\", \"Y\", \"Z\"])\n",
    "\n",
    "# fit model\n",
    "model = NearestNeighbors(n_neighbors=n_neighbors)\n",
    "model.fit(df)\n",
    "\n",
    "# start_time = perf_counter()\n",
    "\n",
    "# # get 3 nearest neighbors\n",
    "# distances_fit, indices_fit = model.kneighbors(fit_df)\n",
    "\n",
    "# end_time = perf_counter()\n",
    "# print(f\"Average execution time with blobs: {end_time-start_time:.6f} seconds\")\n",
    "\n",
    "\n",
    "start_time = perf_counter()\n",
    "\n",
    "# get 3 nearest neighbors\n",
    "distances1, indices1 = model.kneighbors(df)\n",
    "\n",
    "end_time = perf_counter()\n",
    "print(f\"Average execution time with common data: {end_time-start_time:.6f} seconds\")"
   ]
  },
  {
   "cell_type": "code",
   "execution_count": 8,
   "metadata": {},
   "outputs": [],
   "source": [
    "# fit_df.shape == df.shape"
   ]
  },
  {
   "cell_type": "code",
   "execution_count": 9,
   "metadata": {},
   "outputs": [],
   "source": [
    "\n",
    "def autoSearchAlgorithm(df_input):\n",
    "    # Create a cuML NearestNeighbors model\n",
    "    nn = NearestNeighbors(n_neighbors=n_neighbors)\n",
    "\n",
    "    # Compute the Dask DataFrame\n",
    "    # ddf_computed = ddf.compute()\n",
    "\n",
    "    # Fit the model with the input data\n",
    "    nn.fit(df_input)\n",
    "\n",
    "    start_time = timeit.default_timer()\n",
    "\n",
    "    # Get the nearest neighbors\n",
    "    distances2, indices2 = nn.kneighbors(df_input)\n",
    "\n",
    "    end_time = timeit.default_timer()\n",
    "    execution_time = end_time - start_time\n",
    "    print(f\"auto Execution time: {execution_time} seconds\")\n",
    "    # print(indices.compute())\n",
    "\n",
    "    return distances2, indices2, execution_time\n"
   ]
  },
  {
   "cell_type": "code",
   "execution_count": 10,
   "metadata": {},
   "outputs": [
    {
     "name": "stdout",
     "output_type": "stream",
     "text": [
      "auto Execution time: 0.6179600109999228 seconds\n"
     ]
    }
   ],
   "source": [
    "distances2, indices2, execution_time_auto = autoSearchAlgorithm(df)"
   ]
  },
  {
   "cell_type": "code",
   "execution_count": 11,
   "metadata": {},
   "outputs": [
    {
     "data": {
      "text/html": [
       "<div>\n",
       "<style scoped>\n",
       "    .dataframe tbody tr th:only-of-type {\n",
       "        vertical-align: middle;\n",
       "    }\n",
       "\n",
       "    .dataframe tbody tr th {\n",
       "        vertical-align: top;\n",
       "    }\n",
       "\n",
       "    .dataframe thead th {\n",
       "        text-align: right;\n",
       "    }\n",
       "</style>\n",
       "<table border=\"1\" class=\"dataframe\">\n",
       "  <thead>\n",
       "    <tr style=\"text-align: right;\">\n",
       "      <th></th>\n",
       "      <th>0</th>\n",
       "      <th>1</th>\n",
       "      <th>2</th>\n",
       "      <th>3</th>\n",
       "      <th>4</th>\n",
       "      <th>5</th>\n",
       "      <th>6</th>\n",
       "      <th>7</th>\n",
       "      <th>8</th>\n",
       "      <th>9</th>\n",
       "      <th>10</th>\n",
       "      <th>11</th>\n",
       "      <th>12</th>\n",
       "      <th>13</th>\n",
       "      <th>14</th>\n",
       "      <th>15</th>\n",
       "    </tr>\n",
       "  </thead>\n",
       "  <tbody>\n",
       "    <tr>\n",
       "      <th>0</th>\n",
       "      <td>True</td>\n",
       "      <td>True</td>\n",
       "      <td>True</td>\n",
       "      <td>True</td>\n",
       "      <td>True</td>\n",
       "      <td>True</td>\n",
       "      <td>True</td>\n",
       "      <td>True</td>\n",
       "      <td>True</td>\n",
       "      <td>True</td>\n",
       "      <td>True</td>\n",
       "      <td>True</td>\n",
       "      <td>True</td>\n",
       "      <td>True</td>\n",
       "      <td>True</td>\n",
       "      <td>True</td>\n",
       "    </tr>\n",
       "    <tr>\n",
       "      <th>1</th>\n",
       "      <td>True</td>\n",
       "      <td>True</td>\n",
       "      <td>True</td>\n",
       "      <td>True</td>\n",
       "      <td>True</td>\n",
       "      <td>True</td>\n",
       "      <td>True</td>\n",
       "      <td>True</td>\n",
       "      <td>True</td>\n",
       "      <td>True</td>\n",
       "      <td>True</td>\n",
       "      <td>True</td>\n",
       "      <td>True</td>\n",
       "      <td>True</td>\n",
       "      <td>True</td>\n",
       "      <td>True</td>\n",
       "    </tr>\n",
       "    <tr>\n",
       "      <th>2</th>\n",
       "      <td>True</td>\n",
       "      <td>True</td>\n",
       "      <td>True</td>\n",
       "      <td>True</td>\n",
       "      <td>True</td>\n",
       "      <td>True</td>\n",
       "      <td>True</td>\n",
       "      <td>True</td>\n",
       "      <td>True</td>\n",
       "      <td>True</td>\n",
       "      <td>True</td>\n",
       "      <td>True</td>\n",
       "      <td>True</td>\n",
       "      <td>True</td>\n",
       "      <td>True</td>\n",
       "      <td>True</td>\n",
       "    </tr>\n",
       "    <tr>\n",
       "      <th>3</th>\n",
       "      <td>True</td>\n",
       "      <td>True</td>\n",
       "      <td>True</td>\n",
       "      <td>True</td>\n",
       "      <td>True</td>\n",
       "      <td>True</td>\n",
       "      <td>True</td>\n",
       "      <td>True</td>\n",
       "      <td>True</td>\n",
       "      <td>True</td>\n",
       "      <td>True</td>\n",
       "      <td>True</td>\n",
       "      <td>True</td>\n",
       "      <td>True</td>\n",
       "      <td>True</td>\n",
       "      <td>True</td>\n",
       "    </tr>\n",
       "    <tr>\n",
       "      <th>4</th>\n",
       "      <td>True</td>\n",
       "      <td>True</td>\n",
       "      <td>True</td>\n",
       "      <td>True</td>\n",
       "      <td>True</td>\n",
       "      <td>True</td>\n",
       "      <td>True</td>\n",
       "      <td>True</td>\n",
       "      <td>True</td>\n",
       "      <td>True</td>\n",
       "      <td>True</td>\n",
       "      <td>True</td>\n",
       "      <td>True</td>\n",
       "      <td>True</td>\n",
       "      <td>True</td>\n",
       "      <td>True</td>\n",
       "    </tr>\n",
       "  </tbody>\n",
       "</table>\n",
       "</div>"
      ],
      "text/plain": [
       "     0     1     2     3     4     5     6     7     8     9     10    11  \\\n",
       "0  True  True  True  True  True  True  True  True  True  True  True  True   \n",
       "1  True  True  True  True  True  True  True  True  True  True  True  True   \n",
       "2  True  True  True  True  True  True  True  True  True  True  True  True   \n",
       "3  True  True  True  True  True  True  True  True  True  True  True  True   \n",
       "4  True  True  True  True  True  True  True  True  True  True  True  True   \n",
       "\n",
       "     12    13    14    15  \n",
       "0  True  True  True  True  \n",
       "1  True  True  True  True  \n",
       "2  True  True  True  True  \n",
       "3  True  True  True  True  \n",
       "4  True  True  True  True  "
      ]
     },
     "execution_count": 11,
     "metadata": {},
     "output_type": "execute_result"
    }
   ],
   "source": [
    "indices1.head() == indices2.head()"
   ]
  },
  {
   "cell_type": "code",
   "execution_count": 12,
   "metadata": {},
   "outputs": [
    {
     "name": "stdout",
     "output_type": "stream",
     "text": [
      "rbc Execution time: 0.592156710999916 seconds\n"
     ]
    }
   ],
   "source": [
    "def rbcSearchAlgorithm(df_input):\n",
    "    # Create a cuML NearestNeighbors model\n",
    "    nn2 = NearestNeighbors(n_neighbors=n_neighbors, algorithm='rbc')\n",
    "\n",
    "    # Fit the model with the input data\n",
    "    nn2.fit(df_input)\n",
    "\n",
    "    start_time = timeit.default_timer()\n",
    "\n",
    "    # Get the nearest neighbors\n",
    "    distances3, indices3 = nn2.kneighbors(df_input)\n",
    "\n",
    "    end_time = timeit.default_timer()\n",
    "    execution_time = end_time - start_time\n",
    "    print(f\"rbc Execution time: {execution_time} seconds\")\n",
    "\n",
    "    return distances3, indices3, execution_time\n",
    "\n",
    "distances3, indices3, execution_time_rbc = rbcSearchAlgorithm(df)\n"
   ]
  },
  {
   "cell_type": "code",
   "execution_count": 13,
   "metadata": {},
   "outputs": [
    {
     "data": {
      "text/html": [
       "<div>\n",
       "<style scoped>\n",
       "    .dataframe tbody tr th:only-of-type {\n",
       "        vertical-align: middle;\n",
       "    }\n",
       "\n",
       "    .dataframe tbody tr th {\n",
       "        vertical-align: top;\n",
       "    }\n",
       "\n",
       "    .dataframe thead th {\n",
       "        text-align: right;\n",
       "    }\n",
       "</style>\n",
       "<table border=\"1\" class=\"dataframe\">\n",
       "  <thead>\n",
       "    <tr style=\"text-align: right;\">\n",
       "      <th></th>\n",
       "      <th>0</th>\n",
       "      <th>1</th>\n",
       "      <th>2</th>\n",
       "      <th>3</th>\n",
       "      <th>4</th>\n",
       "      <th>5</th>\n",
       "      <th>6</th>\n",
       "      <th>7</th>\n",
       "      <th>8</th>\n",
       "      <th>9</th>\n",
       "      <th>10</th>\n",
       "      <th>11</th>\n",
       "      <th>12</th>\n",
       "      <th>13</th>\n",
       "      <th>14</th>\n",
       "      <th>15</th>\n",
       "    </tr>\n",
       "  </thead>\n",
       "  <tbody>\n",
       "    <tr>\n",
       "      <th>0</th>\n",
       "      <td>True</td>\n",
       "      <td>True</td>\n",
       "      <td>True</td>\n",
       "      <td>True</td>\n",
       "      <td>True</td>\n",
       "      <td>True</td>\n",
       "      <td>True</td>\n",
       "      <td>True</td>\n",
       "      <td>True</td>\n",
       "      <td>True</td>\n",
       "      <td>True</td>\n",
       "      <td>True</td>\n",
       "      <td>True</td>\n",
       "      <td>True</td>\n",
       "      <td>True</td>\n",
       "      <td>True</td>\n",
       "    </tr>\n",
       "    <tr>\n",
       "      <th>1</th>\n",
       "      <td>True</td>\n",
       "      <td>True</td>\n",
       "      <td>True</td>\n",
       "      <td>True</td>\n",
       "      <td>True</td>\n",
       "      <td>True</td>\n",
       "      <td>True</td>\n",
       "      <td>True</td>\n",
       "      <td>True</td>\n",
       "      <td>True</td>\n",
       "      <td>True</td>\n",
       "      <td>True</td>\n",
       "      <td>True</td>\n",
       "      <td>True</td>\n",
       "      <td>True</td>\n",
       "      <td>True</td>\n",
       "    </tr>\n",
       "    <tr>\n",
       "      <th>2</th>\n",
       "      <td>True</td>\n",
       "      <td>True</td>\n",
       "      <td>True</td>\n",
       "      <td>True</td>\n",
       "      <td>True</td>\n",
       "      <td>True</td>\n",
       "      <td>True</td>\n",
       "      <td>True</td>\n",
       "      <td>True</td>\n",
       "      <td>True</td>\n",
       "      <td>True</td>\n",
       "      <td>True</td>\n",
       "      <td>True</td>\n",
       "      <td>True</td>\n",
       "      <td>True</td>\n",
       "      <td>True</td>\n",
       "    </tr>\n",
       "    <tr>\n",
       "      <th>3</th>\n",
       "      <td>True</td>\n",
       "      <td>True</td>\n",
       "      <td>True</td>\n",
       "      <td>True</td>\n",
       "      <td>True</td>\n",
       "      <td>True</td>\n",
       "      <td>True</td>\n",
       "      <td>True</td>\n",
       "      <td>True</td>\n",
       "      <td>True</td>\n",
       "      <td>True</td>\n",
       "      <td>True</td>\n",
       "      <td>True</td>\n",
       "      <td>True</td>\n",
       "      <td>True</td>\n",
       "      <td>True</td>\n",
       "    </tr>\n",
       "    <tr>\n",
       "      <th>4</th>\n",
       "      <td>True</td>\n",
       "      <td>True</td>\n",
       "      <td>True</td>\n",
       "      <td>True</td>\n",
       "      <td>True</td>\n",
       "      <td>True</td>\n",
       "      <td>True</td>\n",
       "      <td>True</td>\n",
       "      <td>True</td>\n",
       "      <td>True</td>\n",
       "      <td>True</td>\n",
       "      <td>True</td>\n",
       "      <td>True</td>\n",
       "      <td>True</td>\n",
       "      <td>True</td>\n",
       "      <td>True</td>\n",
       "    </tr>\n",
       "  </tbody>\n",
       "</table>\n",
       "</div>"
      ],
      "text/plain": [
       "     0     1     2     3     4     5     6     7     8     9     10    11  \\\n",
       "0  True  True  True  True  True  True  True  True  True  True  True  True   \n",
       "1  True  True  True  True  True  True  True  True  True  True  True  True   \n",
       "2  True  True  True  True  True  True  True  True  True  True  True  True   \n",
       "3  True  True  True  True  True  True  True  True  True  True  True  True   \n",
       "4  True  True  True  True  True  True  True  True  True  True  True  True   \n",
       "\n",
       "     12    13    14    15  \n",
       "0  True  True  True  True  \n",
       "1  True  True  True  True  \n",
       "2  True  True  True  True  \n",
       "3  True  True  True  True  \n",
       "4  True  True  True  True  "
      ]
     },
     "execution_count": 13,
     "metadata": {},
     "output_type": "execute_result"
    }
   ],
   "source": [
    "indices2.head() == indices3.head()"
   ]
  },
  {
   "cell_type": "code",
   "execution_count": 14,
   "metadata": {},
   "outputs": [
    {
     "name": "stderr",
     "output_type": "stream",
     "text": [
      "/home/jabl91/miniconda3/envs/pointcept_py_3_9/lib/python3.9/site-packages/cuml/internals/api_decorators.py:190: UserWarning: \n",
      "Warning: Approximate Nearest Neighbor methods might be unstable in this version of cuML. This is due to a known issue in the FAISS release that this cuML version is linked to. (see cuML issue #4020)\n",
      "  return func(*args, **kwargs)\n"
     ]
    },
    {
     "name": "stdout",
     "output_type": "stream",
     "text": [
      "ivfflat Execution time: 0.9188172210006087 seconds\n"
     ]
    }
   ],
   "source": [
    "def ivfflatSearchAlgorithm(df_input):\n",
    "    # Create a cuML NearestNeighbors model\n",
    "    nn3 = NearestNeighbors(n_neighbors=n_neighbors, algorithm='ivfflat')\n",
    "\n",
    "    # Fit the model with the input data\n",
    "    nn3.fit(df_input)\n",
    "\n",
    "    start_time = timeit.default_timer()\n",
    "\n",
    "    # Get the nearest neighbors\n",
    "    distances4, indices4 = nn3.kneighbors(df_input)\n",
    "\n",
    "    end_time = timeit.default_timer()\n",
    "    execution_time = end_time - start_time\n",
    "    print(f\"ivfflat Execution time: {execution_time} seconds\")\n",
    "\n",
    "    return distances4, indices4, execution_time\n",
    "\n",
    "distances4, indices4, execution_time_ivfflat = ivfflatSearchAlgorithm(df)"
   ]
  },
  {
   "cell_type": "code",
   "execution_count": 15,
   "metadata": {},
   "outputs": [
    {
     "name": "stdout",
     "output_type": "stream",
     "text": [
      "     0     1     2     3     4     5     6     7     8     9     10    11  \\\n",
      "0  True  True  True  True  True  True  True  True  True  True  True  True   \n",
      "1  True  True  True  True  True  True  True  True  True  True  True  True   \n",
      "2  True  True  True  True  True  True  True  True  True  True  True  True   \n",
      "3  True  True  True  True  True  True  True  True  True  True  True  True   \n",
      "4  True  True  True  True  True  True  True  True  True  True  True  True   \n",
      "\n",
      "     12    13    14    15  \n",
      "0  True  True  True  True  \n",
      "1  True  True  True  True  \n",
      "2  True  True  True  True  \n",
      "3  True  True  True  True  \n",
      "4  True  True  True  True  \n",
      "            0       1       2       3       4       5       6       7   \\\n",
      "0            0  228230  364330   93003  249293   73734  203422  142002   \n",
      "1            1  128113  260557  250055  222835  342484  330983  300057   \n",
      "2            2  366661  235361  262980   94230  208169  313825  114637   \n",
      "3            3   35740  276378  357180   89674  253087  188626  360212   \n",
      "4            4  147818  158943  303548  295128  326243  157388  359792   \n",
      "...        ...     ...     ...     ...     ...     ...     ...     ...   \n",
      "399995  399995  217797  191059   80678  213938   14887   98286  163962   \n",
      "399996  399996  321437  355351  168634  224641   10406  365292   54258   \n",
      "399997  399997  313020  191319  201122  319767   88439  164411  135358   \n",
      "399998  399998  203918   38125  155070  249845  216302    2651  290035   \n",
      "399999  399999  360466  333458  312511   31517  246933    1218  152819   \n",
      "\n",
      "            8       9       10      11      12      13      14      15  \n",
      "0        50013   86444   78704  342631   38821  183823  257716  354114  \n",
      "1       227620  300296  293839  382053  245610   66253  216443  353424  \n",
      "2       367060  394908  383615  216125  239316  127867   44355  171986  \n",
      "3       121575  121063   64551   28327  113769   94762  211036  323852  \n",
      "4       152674  235139   31978  262557  236335  173969   78292  117431  \n",
      "...        ...     ...     ...     ...     ...     ...     ...     ...  \n",
      "399995  178809  365052   48921  149937  105531  144090   41005  261483  \n",
      "399996  159318  213400  352365  197175  185235  177897  173881  380427  \n",
      "399997  380952  344238   74201   98191  395222  366728  337190  152214  \n",
      "399998  371732  257661  197730   98296  332444   80804  196779   13995  \n",
      "399999  308610  323079  257369  350312   14390  185964  385090    8441  \n",
      "\n",
      "[400000 rows x 16 columns]\n"
     ]
    }
   ],
   "source": [
    "print(indices3.head() == indices4.head())\n",
    "print(indices4)"
   ]
  },
  {
   "cell_type": "code",
   "execution_count": 16,
   "metadata": {},
   "outputs": [
    {
     "name": "stdout",
     "output_type": "stream",
     "text": [
      "C++ PointopsV1 KNN Execution time: 0.23516880700026377 seconds\n"
     ]
    }
   ],
   "source": [
    "import torch\n",
    "import pointops\n",
    "\n",
    "def knn_query_pointopsv1(n_neighbors_input, point_cloud_input, n_points_input):\n",
    "    n_points_tensor = torch.cuda.FloatTensor([n_points_input])\n",
    "\n",
    "    start_time = timeit.default_timer()\n",
    "\n",
    "    reference_index, _ = pointops.knn_query(n_neighbors_input, point_cloud_input, n_points_tensor)\n",
    "\n",
    "    torch.cuda.synchronize()\n",
    "\n",
    "    reference_index_cpu = reference_index.cpu()\n",
    "\n",
    "    # print(reference_index)\n",
    "\n",
    "    end_time = timeit.default_timer()\n",
    "    execution_time = end_time - start_time\n",
    "    print(f\"C++ PointopsV1 KNN Execution time: {execution_time} seconds\")\n",
    "    # print(reference_index.shape)\n",
    "\n",
    "    return reference_index_cpu, execution_time\n",
    "\n",
    "reference_index_cpu, execution_time_pointopsv1 = knn_query_pointopsv1(n_neighbors, point_cloud, n_points)"
   ]
  },
  {
   "cell_type": "code",
   "execution_count": 17,
   "metadata": {},
   "outputs": [
    {
     "name": "stdout",
     "output_type": "stream",
     "text": [
      "<class 'cudf.core.dataframe.DataFrame'>\n",
      "<class 'torch.Tensor'>\n",
      "The content differs between the cuDF DataFrame and PyTorch Tensor.\n"
     ]
    }
   ],
   "source": [
    "print(type(indices1))\n",
    "print(type(reference_index_cpu))\n",
    "\n",
    "# Assuming you have a cuDF DataFrame (cudf_df) and a PyTorch Tensor (torch_tensor)\n",
    "# Extract the data from the cuDF DataFrame\n",
    "indices1_data = indices1.to_pandas().values\n",
    "\n",
    "# Convert the cuDF data to a PyTorch Tensor\n",
    "torch_indices1_data = torch.tensor(indices1_data).to(torch.int32)\n",
    "\n",
    "# Compare the content element-wise\n",
    "are_equal = torch.equal(torch_indices1_data, reference_index_cpu)\n",
    "\n",
    "if are_equal:\n",
    "    print(\"The content of the cuDF DataFrame and PyTorch Tensor is equal.\")\n",
    "else:\n",
    "    print(\"The content differs between the cuDF DataFrame and PyTorch Tensor.\")"
   ]
  },
  {
   "cell_type": "code",
   "execution_count": 18,
   "metadata": {},
   "outputs": [
    {
     "name": "stdout",
     "output_type": "stream",
     "text": [
      "tensor([[ 55298,      5],\n",
      "        [ 55298,      6],\n",
      "        [153718,      8],\n",
      "        [153718,      9],\n",
      "        [299987,      8],\n",
      "        [299987,      9]])\n",
      "tensor([[     0, 228230, 364330,  ..., 183823, 257716, 354114],\n",
      "        [     1, 128113, 260557,  ...,  66253, 216443, 353424],\n",
      "        [     2, 366661, 235361,  ..., 127867,  44355, 171986],\n",
      "        ...,\n",
      "        [399997, 313020, 191319,  ..., 366728, 337190, 152214],\n",
      "        [399998, 203918,  38125,  ...,  80804, 196779,  13995],\n",
      "        [399999, 360466, 333458,  ..., 185964, 385090,   8441]],\n",
      "       dtype=torch.int32)\n",
      "tensor([[     0, 228230, 364330,  ..., 183823, 257716, 354114],\n",
      "        [     1, 128113, 260557,  ...,  66253, 216443, 353424],\n",
      "        [     2, 366661, 235361,  ..., 127867,  44355, 171986],\n",
      "        ...,\n",
      "        [399997, 313020, 191319,  ..., 366728, 337190, 152214],\n",
      "        [399998, 203918,  38125,  ...,  80804, 196779,  13995],\n",
      "        [399999, 360466, 333458,  ..., 185964, 385090,   8441]],\n",
      "       dtype=torch.int32)\n"
     ]
    }
   ],
   "source": [
    "# Compare element-wise equality\n",
    "elementwise_equal = torch.eq(torch_indices1_data, reference_index_cpu)\n",
    "\n",
    "# Find indices where elements are different (i.e., where elementwise_equal is False)\n",
    "differing_indices = torch.nonzero(~elementwise_equal)\n",
    "\n",
    "\n",
    "print(differing_indices)\n",
    "print(torch_indices1_data)\n",
    "print(reference_index_cpu)"
   ]
  },
  {
   "cell_type": "code",
   "execution_count": 19,
   "metadata": {},
   "outputs": [
    {
     "name": "stdout",
     "output_type": "stream",
     "text": [
      "C++ PointopsV2 KNN Execution time: 0.24528514899975562 seconds\n"
     ]
    }
   ],
   "source": [
    "import torch\n",
    "from pointops2 import pointops2 as newerPointOps2\n",
    "\n",
    "def knn_query_pointopsv2(n_neighbors_input, point_cloud_input, n_points_input):\n",
    "    n_points_tensor = torch.cuda.FloatTensor([n_points_input])\n",
    "\n",
    "    start_time = timeit.default_timer()\n",
    "\n",
    "    reference_index, _ = newerPointOps2.knnquery(n_neighbors_input, point_cloud_input, None, n_points_tensor, n_points_tensor)\n",
    "\n",
    "    torch.cuda.synchronize()\n",
    "\n",
    "    reference_index_cpu2 = reference_index.cpu()\n",
    "\n",
    "    end_time = timeit.default_timer()\n",
    "    execution_time = end_time - start_time\n",
    "    print(f\"C++ PointopsV2 KNN Execution time: {execution_time} seconds\")\n",
    "    # print(reference_index)\n",
    "\n",
    "    return reference_index_cpu2, execution_time\n",
    "\n",
    "reference_index_cpu2, execution_time_pointopsv2 = knn_query_pointopsv2(n_neighbors, point_cloud, n_points)"
   ]
  },
  {
   "cell_type": "code",
   "execution_count": 20,
   "metadata": {},
   "outputs": [
    {
     "name": "stdout",
     "output_type": "stream",
     "text": [
      "<class 'cudf.core.dataframe.DataFrame'>\n",
      "<class 'torch.Tensor'>\n",
      "The content differs between the cuDF DataFrame and PyTorch Tensor.\n"
     ]
    }
   ],
   "source": [
    "print(type(indices1))\n",
    "print(type(reference_index_cpu2))\n",
    "\n",
    "# Assuming you have a cuDF DataFrame (cudf_df) and a PyTorch Tensor (torch_tensor)\n",
    "# Extract the data from the cuDF DataFrame\n",
    "indices1_data = indices1.to_pandas().values\n",
    "\n",
    "# Convert the cuDF data to a PyTorch Tensor\n",
    "torch_indices1_data = torch.tensor(indices1_data).to(torch.int32)\n",
    "\n",
    "# Compare the content element-wise\n",
    "are_equal = torch.equal(torch_indices1_data, reference_index_cpu2)\n",
    "\n",
    "if are_equal:\n",
    "    print(\"The content of the cuDF DataFrame and PyTorch Tensor is equal.\")\n",
    "else:\n",
    "    print(\"The content differs between the cuDF DataFrame and PyTorch Tensor.\")"
   ]
  },
  {
   "cell_type": "code",
   "execution_count": 21,
   "metadata": {},
   "outputs": [
    {
     "name": "stdout",
     "output_type": "stream",
     "text": [
      "tensor([[ 55298,      5],\n",
      "        [ 55298,      6],\n",
      "        [153718,      8],\n",
      "        [153718,      9],\n",
      "        [299987,      8],\n",
      "        [299987,      9]])\n",
      "tensor([[     0, 228230, 364330,  ..., 183823, 257716, 354114],\n",
      "        [     1, 128113, 260557,  ...,  66253, 216443, 353424],\n",
      "        [     2, 366661, 235361,  ..., 127867,  44355, 171986],\n",
      "        ...,\n",
      "        [399997, 313020, 191319,  ..., 366728, 337190, 152214],\n",
      "        [399998, 203918,  38125,  ...,  80804, 196779,  13995],\n",
      "        [399999, 360466, 333458,  ..., 185964, 385090,   8441]],\n",
      "       dtype=torch.int32)\n",
      "tensor([[     0, 228230, 364330,  ..., 183823, 257716, 354114],\n",
      "        [     1, 128113, 260557,  ...,  66253, 216443, 353424],\n",
      "        [     2, 366661, 235361,  ..., 127867,  44355, 171986],\n",
      "        ...,\n",
      "        [399997, 313020, 191319,  ..., 366728, 337190, 152214],\n",
      "        [399998, 203918,  38125,  ...,  80804, 196779,  13995],\n",
      "        [399999, 360466, 333458,  ..., 185964, 385090,   8441]],\n",
      "       dtype=torch.int32)\n"
     ]
    }
   ],
   "source": [
    "# Compare element-wise equality\n",
    "elementwise_equal = torch.eq(torch_indices1_data, reference_index_cpu2)\n",
    "\n",
    "# Find indices where elements are different (i.e., where elementwise_equal is False)\n",
    "differing_indices2 = torch.nonzero(~elementwise_equal)\n",
    "\n",
    "\n",
    "print(differing_indices2)\n",
    "print(torch_indices1_data)\n",
    "print(reference_index_cpu2)"
   ]
  },
  {
   "cell_type": "code",
   "execution_count": 22,
   "metadata": {},
   "outputs": [
    {
     "data": {
      "text/plain": [
       "True"
      ]
     },
     "execution_count": 22,
     "metadata": {},
     "output_type": "execute_result"
    }
   ],
   "source": [
    "torch.equal(differing_indices2, differing_indices)"
   ]
  },
  {
   "cell_type": "code",
   "execution_count": 23,
   "metadata": {},
   "outputs": [],
   "source": [
    "# # Create a cuML NearestNeighbors model\n",
    "# nn4 = NearestNeighbors(n_neighbors=n_neighbors, algorithm='ivfpq')\n",
    "# # Compute the Dask DataFrame\n",
    "# ddf_computed = ddf.compute()\n",
    "\n",
    "# start_time = timeit.default_timer()\n",
    "\n",
    "\n",
    "\n",
    "# # Fit the model with the input data\n",
    "# nn4.fit(ddf_computed)\n",
    "\n",
    "# # Get the nearest neighbors\n",
    "# distances, indices = nn4.kneighbors(ddf_computed)\n",
    "\n",
    "# end_time = timeit.default_timer()\n",
    "# execution_time = end_time - start_time\n",
    "# print(f\"ivfflat Execution time: {execution_time} seconds\")"
   ]
  },
  {
   "cell_type": "code",
   "execution_count": 24,
   "metadata": {},
   "outputs": [
    {
     "data": {
      "image/png": "[encoded data removed]",
      "text/plain": [
       "<Figure size 1000x600 with 1 Axes>"
      ]
     },
     "metadata": {},
     "output_type": "display_data"
    }
   ],
   "source": [
    "import matplotlib.pyplot as plt\n",
    "\n",
    "# Execution times of each function\n",
    "execution_times = [execution_time_auto, execution_time_rbc, execution_time_ivfflat, execution_time_pointopsv1, execution_time_pointopsv2]\n",
    "\n",
    "# Function names\n",
    "function_names = ['autoSearchAlgorithm', 'rbcSearchAlgorithm', 'ivfflatSearchAlgorithm', 'knn_query_pointopsv1', 'knn_query_pointopsv2']\n",
    "\n",
    "# Number of n_points\n",
    "n_points_used = n_points\n",
    "\n",
    "# Plotting the execution times\n",
    "plt.figure(figsize=(10, 6))\n",
    "plt.bar(function_names, execution_times)\n",
    "plt.xlabel('Function')\n",
    "plt.ylabel('Execution Time (seconds)')\n",
    "plt.title(f'Execution Time of Functions (n_points = {n_points_used})')\n",
    "plt.xticks(rotation=45)\n",
    "plt.show()\n"
   ]
  },
  {
   "cell_type": "code",
   "execution_count": 25,
   "metadata": {},
   "outputs": [
    {
     "name": "stdout",
     "output_type": "stream",
     "text": [
      "Current n_points: 1000000\n",
      "auto Execution time: 2.350788859000204 seconds\n",
      "rbc Execution time: 2.358707299999878 seconds\n"
     ]
    },
    {
     "name": "stderr",
     "output_type": "stream",
     "text": [
      "/home/jabl91/miniconda3/envs/pointcept_py_3_9/lib/python3.9/site-packages/cuml/internals/api_decorators.py:190: UserWarning: \n",
      "Warning: Approximate Nearest Neighbor methods might be unstable in this version of cuML. This is due to a known issue in the FAISS release that this cuML version is linked to. (see cuML issue #4020)\n",
      "  return func(*args, **kwargs)\n"
     ]
    },
    {
     "name": "stdout",
     "output_type": "stream",
     "text": [
      "ivfflat Execution time: 1.6709912420001274 seconds\n",
      "C++ PointopsV1 KNN Execution time: 1.4244443459992908 seconds\n",
      "C++ PointopsV2 KNN Execution time: 1.3975868659999833 seconds\n",
      "Current n_points: 2000000\n",
      "auto Execution time: 6.707301344000371 seconds\n",
      "rbc Execution time: 6.784420397999384 seconds\n",
      "ivfflat Execution time: 6.612313283999356 seconds\n",
      "C++ PointopsV1 KNN Execution time: 5.394502152000314 seconds\n",
      "C++ PointopsV2 KNN Execution time: 5.40505850900081 seconds\n",
      "Current n_points: 3000000\n",
      "auto Execution time: 21.25256814000022 seconds\n",
      "rbc Execution time: 21.697444933000043 seconds\n",
      "ivfflat Execution time: 14.999196167000264 seconds\n",
      "C++ PointopsV1 KNN Execution time: 12.13430927599984 seconds\n",
      "C++ PointopsV2 KNN Execution time: 12.202676244000031 seconds\n",
      "Current n_points: 4000000\n",
      "auto Execution time: 42.366739595999206 seconds\n",
      "rbc Execution time: 42.54119715700017 seconds\n",
      "ivfflat Execution time: 35.009925369000484 seconds\n",
      "C++ PointopsV1 KNN Execution time: 21.169240057000025 seconds\n",
      "C++ PointopsV2 KNN Execution time: 21.209297291999974 seconds\n",
      "Current n_points: 5000000\n",
      "auto Execution time: 71.70895735199974 seconds\n",
      "rbc Execution time: 71.52563823299988 seconds\n",
      "ivfflat Execution time: 57.65433865799969 seconds\n",
      "C++ PointopsV1 KNN Execution time: 33.6122896830002 seconds\n",
      "C++ PointopsV2 KNN Execution time: 33.33962936899934 seconds\n",
      "Current n_points: 6000000\n",
      "auto Execution time: 139.0097507370001 seconds\n",
      "rbc Execution time: 138.58211713700075 seconds\n",
      "ivfflat Execution time: 74.73636725100005 seconds\n",
      "C++ PointopsV1 KNN Execution time: 47.381135923999864 seconds\n",
      "C++ PointopsV2 KNN Execution time: 46.98935632900066 seconds\n",
      "Current n_points: 7000000\n",
      "auto Execution time: 1011.2626098680003 seconds\n"
     ]
    }
   ],
   "source": [
    "import pandas as pd\n",
    "import torch\n",
    "import matplotlib.pyplot as plt\n",
    "\n",
    "# List of n_points values\n",
    "n_points_list = [1000000, 1500000, 2000000, 2500000, 3000000, 3500000, 4000000, 4500000, 5000000, 5500000, 6000000] # Do not use a number above 6000000 if your GPU Memory is 16GB\n",
    "\n",
    "# Lists to store execution times for each function\n",
    "execution_times_auto = []\n",
    "execution_times_rbc = []\n",
    "execution_times_ivfflat = []\n",
    "execution_times_pointopsv1 = []\n",
    "execution_times_pointopsv2 = []\n",
    "\n",
    "# Loop over n_points values\n",
    "for n_points in n_points_list:\n",
    "\n",
    "    print(f\"Current n_points: {n_points}\")\n",
    "\n",
    "    # Generate random data for the DataFrame\n",
    "    point_cloud = torch.cuda.FloatTensor(n_points, 3).uniform_()\n",
    "\n",
    "    # Generate random data for the DataFrame\n",
    "    random_data = np.array(point_cloud.cpu())\n",
    "\n",
    "    # Create the cudf.DataFrame\n",
    "    df = cudf.DataFrame(random_data, columns=[\"X\", \"Y\", \"Z\"])\n",
    "\n",
    "    # Call the functions and measure execution time\n",
    "    distances_auto, indices_auto, execution_time_auto = autoSearchAlgorithm(df)\n",
    "    distances_rbc, indices_rbc, execution_time_rbc = rbcSearchAlgorithm(df)\n",
    "    distances_ivfflat, indices_ivfflat, execution_time_ivfflat = ivfflatSearchAlgorithm(df)\n",
    "    reference_index_cpu, execution_time_pointopsv1 = knn_query_pointopsv1(n_neighbors, point_cloud, n_points)\n",
    "    reference_index_cpu2, execution_time_pointopsv2 = knn_query_pointopsv2(n_neighbors, point_cloud, n_points)\n",
    "\n",
    "    # Append execution times to the respective lists\n",
    "    execution_times_auto.append(execution_time_auto)\n",
    "    execution_times_rbc.append(execution_time_rbc)\n",
    "    execution_times_ivfflat.append(execution_time_ivfflat)\n",
    "    execution_times_pointopsv1.append(execution_time_pointopsv1)\n",
    "    execution_times_pointopsv2.append(execution_time_pointopsv2)\n",
    "\n",
    "# Create a DataFrame to store the execution times\n",
    "execution_times_df = pd.DataFrame({\n",
    "    'n_points': n_points_list,\n",
    "    'autoSearchAlgorithm': execution_times_auto,\n",
    "    'rbcSearchAlgorithm': execution_times_rbc,\n",
    "    'ivfflatSearchAlgorithm': execution_times_ivfflat,\n",
    "    'knn_query_pointopsv1': execution_times_pointopsv1,\n",
    "    'knn_query_pointopsv2': execution_times_pointopsv2\n",
    "})\n",
    "\n",
    "# Plotting the execution times\n",
    "plt.figure(figsize=(10, 6))\n",
    "plt.plot(execution_times_df['n_points'], execution_times_df['autoSearchAlgorithm'], label='autoSearchAlgorithm')\n",
    "plt.plot(execution_times_df['n_points'], execution_times_df['rbcSearchAlgorithm'], label='rbcSearchAlgorithm')\n",
    "plt.plot(execution_times_df['n_points'], execution_times_df['ivfflatSearchAlgorithm'], label='ivfflatSearchAlgorithm')\n",
    "plt.plot(execution_times_df['n_points'], execution_times_df['knn_query_pointopsv1'], label='knn_query_pointopsv1')\n",
    "plt.plot(execution_times_df['n_points'], execution_times_df['knn_query_pointopsv2'], label='knn_query_pointopsv2')\n",
    "plt.xlabel('n_points')\n",
    "plt.ylabel('Execution Time (seconds)')\n",
    "plt.title('Execution Time Comparison for Different n_points')\n",
    "plt.legend()\n",
    "plt.show()\n"
   ]
  },
  {
   "cell_type": "code",
   "execution_count": null,
   "metadata": {},
   "outputs": [],
   "source": []
  }
 ],
 "metadata": {
  "kernelspec": {
   "display_name": "pointcept_py_3_9",
   "language": "python",
   "name": "python3"
  },
  "language_info": {
   "codemirror_mode": {
    "name": "ipython",
    "version": 3
   },
   "file_extension": ".py",
   "mimetype": "text/x-python",
   "name": "python",
   "nbconvert_exporter": "python",
   "pygments_lexer": "ipython3",
   "version": "3.9.18"
  }
 },
 "nbformat": 4,
 "nbformat_minor": 2
}
