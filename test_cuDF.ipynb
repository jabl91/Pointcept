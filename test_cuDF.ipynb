{
 "cells": [
  {
   "cell_type": "code",
   "execution_count": 1,
   "metadata": {},
   "outputs": [],
   "source": [
    "import os\n",
    "\n",
    "import cupy as cp\n",
    "import pandas as pd\n",
    "import torch\n",
    "\n",
    "import cudf\n",
    "import dask_cudf\n",
    "\n",
    "cp.random.seed(12)\n",
    "\n",
    "#### Portions of this were borrowed and adapted from the\n",
    "#### cuDF cheatsheet, existing cuDF documentation,\n",
    "#### and 10 Minutes to Pandas."
   ]
  },
  {
   "cell_type": "code",
   "execution_count": 2,
   "metadata": {},
   "outputs": [],
   "source": [
    "import torch\n",
    "import cudf\n",
    "import timeit\n",
    "from cuml.dask.neighbors import NearestNeighbors\n",
    "from cuml.common.device_selection import using_device_type, set_global_device_type, get_global_device_type"
   ]
  },
  {
   "cell_type": "code",
   "execution_count": 3,
   "metadata": {},
   "outputs": [
    {
     "name": "stderr",
     "output_type": "stream",
     "text": [
      "/home/jabl91/miniconda3/envs/pointcept_py_3_9/lib/python3.9/site-packages/dask_cuda/utils.py:170: UserWarning: Cannot get CPU affinity for device with index 0, setting default affinity\n",
      "  warnings.warn(\n"
     ]
    }
   ],
   "source": [
    "import time\n",
    "\n",
    "from dask.distributed import Client, wait\n",
    "from dask_cuda import LocalCUDACluster\n",
    "\n",
    "cluster = LocalCUDACluster()\n",
    "client = Client(cluster)"
   ]
  },
  {
   "cell_type": "code",
   "execution_count": 4,
   "metadata": {},
   "outputs": [],
   "source": [
    "# Generate a \"coordinate\" dataframe\n",
    "n_points = 32000\n",
    "df = cudf.DataFrame()\n",
    "df['x'] = torch.cuda.FloatTensor(n_points).uniform_()\n",
    "df['y'] = torch.cuda.FloatTensor(n_points).uniform_()\n",
    "df['z'] = torch.cuda.FloatTensor(n_points).uniform_()"
   ]
  },
  {
   "cell_type": "code",
   "execution_count": 5,
   "metadata": {},
   "outputs": [],
   "source": [
    "ddf = dask_cudf.from_cudf(df, npartitions=1)\n",
    "ddf.head()\n",
    "\n",
    "ddf = ddf.persist()"
   ]
  },
  {
   "cell_type": "code",
   "execution_count": 11,
   "metadata": {},
   "outputs": [
    {
     "name": "stdout",
     "output_type": "stream",
     "text": [
      "auto Execution time: 0.863862573998631 seconds\n"
     ]
    }
   ],
   "source": [
    "n_neighbors = 16\n",
    "\n",
    "# Create a cuML NearestNeighbors model\n",
    "nn = NearestNeighbors(n_neighbors=n_neighbors, client=client)\n",
    "\n",
    "# Compute the Dask DataFrame\n",
    "# ddf_computed = ddf.compute()\n",
    "\n",
    "start_time = timeit.default_timer()\n",
    "\n",
    "# Fit the model with the input data\n",
    "nn.fit(ddf)\n",
    "\n",
    "# Get the nearest neighbors\n",
    "distances, indices = nn.kneighbors(ddf)\n",
    "\n",
    "\n",
    "end_time = timeit.default_timer()\n",
    "execution_time = end_time - start_time\n",
    "print(f\"auto Execution time: {execution_time} seconds\")"
   ]
  },
  {
   "cell_type": "code",
   "execution_count": 12,
   "metadata": {},
   "outputs": [
    {
     "name": "stdout",
     "output_type": "stream",
     "text": [
      "rbc Execution time: 0.6439342650010076 seconds\n"
     ]
    }
   ],
   "source": [
    "# Create a cuML NearestNeighbors model\n",
    "nn2 = NearestNeighbors(n_neighbors=n_neighbors, algorithm='rbc')\n",
    "# Compute the Dask DataFrame\n",
    "#ddf_computed = ddf.compute()\n",
    "\n",
    "start_time = timeit.default_timer()\n",
    "\n",
    "\n",
    "\n",
    "# Fit the model with the input data\n",
    "nn2.fit(ddf)\n",
    "\n",
    "# Get the nearest neighbors\n",
    "distances, indices = nn2.kneighbors(ddf)\n",
    "\n",
    "end_time = timeit.default_timer()\n",
    "execution_time = end_time - start_time\n",
    "print(f\"rbc Execution time: {execution_time} seconds\")"
   ]
  },
  {
   "cell_type": "code",
   "execution_count": 13,
   "metadata": {},
   "outputs": [
    {
     "name": "stdout",
     "output_type": "stream",
     "text": [
      "ivfflat Execution time: 0.6513749460027611 seconds\n"
     ]
    }
   ],
   "source": [
    "# Create a cuML NearestNeighbors model\n",
    "nn3 = NearestNeighbors(n_neighbors=n_neighbors, algorithm='ivfflat')\n",
    "# Compute the Dask DataFrame\n",
    "#ddf_computed = ddf.compute()\n",
    "\n",
    "start_time = timeit.default_timer()\n",
    "\n",
    "\n",
    "\n",
    "# Fit the model with the input data\n",
    "nn3.fit(ddf)\n",
    "\n",
    "# Get the nearest neighbors\n",
    "distances, indices = nn3.kneighbors(ddf)\n",
    "\n",
    "end_time = timeit.default_timer()\n",
    "execution_time = end_time - start_time\n",
    "print(f\"ivfflat Execution time: {execution_time} seconds\")"
   ]
  },
  {
   "cell_type": "code",
   "execution_count": null,
   "metadata": {},
   "outputs": [],
   "source": [
    "# # Create a cuML NearestNeighbors model\n",
    "# nn4 = NearestNeighbors(n_neighbors=n_neighbors, algorithm='ivfpq')\n",
    "# # Compute the Dask DataFrame\n",
    "# ddf_computed = ddf.compute()\n",
    "\n",
    "# start_time = timeit.default_timer()\n",
    "\n",
    "\n",
    "\n",
    "# # Fit the model with the input data\n",
    "# nn4.fit(ddf_computed)\n",
    "\n",
    "# # Get the nearest neighbors\n",
    "# distances, indices = nn4.kneighbors(ddf_computed)\n",
    "\n",
    "# end_time = timeit.default_timer()\n",
    "# execution_time = end_time - start_time\n",
    "# print(f\"ivfflat Execution time: {execution_time} seconds\")"
   ]
  },
  {
   "cell_type": "code",
   "execution_count": null,
   "metadata": {},
   "outputs": [],
   "source": [
    "client.close()"
   ]
  },
  {
   "cell_type": "code",
   "execution_count": null,
   "metadata": {},
   "outputs": [],
   "source": [
    "ddf = ddf.persist()\n",
    "ddf"
   ]
  }
 ],
 "metadata": {
  "kernelspec": {
   "display_name": "pointcept_py_3_9",
   "language": "python",
   "name": "python3"
  },
  "language_info": {
   "codemirror_mode": {
    "name": "ipython",
    "version": 3
   },
   "file_extension": ".py",
   "mimetype": "text/x-python",
   "name": "python",
   "nbconvert_exporter": "python",
   "pygments_lexer": "ipython3",
   "version": "3.9.18"
  }
 },
 "nbformat": 4,
 "nbformat_minor": 2
}
